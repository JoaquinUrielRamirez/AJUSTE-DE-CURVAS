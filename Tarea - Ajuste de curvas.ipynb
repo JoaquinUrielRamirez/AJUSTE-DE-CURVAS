{
 "cells": [
  {
   "cell_type": "markdown",
   "metadata": {},
   "source": [
    "# Tarea - Ajuste de curvas"
   ]
  },
  {
   "cell_type": "code",
   "execution_count": 86,
   "metadata": {},
   "outputs": [],
   "source": [
    "import numpy as np\n",
    "import pandas as pd\n",
    "import matplotlib.pyplot as plt"
   ]
  },
  {
   "cell_type": "markdown",
   "metadata": {},
   "source": [
    "---\n",
    "### Problema 1\n",
    "\n",
    "Los siguientes datos representan el costo en dólares de la electricidad según Western Electricity Coordinating Council desde el 2014 (y su pronóstico para el 2040)\n",
    "\n",
    "Tomado de:\n",
    "https://www.quandl.com/data/EIA/AEO_2016_REF_NO_CPP_PRCE_NA_COMM_NA_ELC_NA_WECCRKS_NCNTPKWH_A-Electricity-End-Use-Prices-Commercial-Western-Electricity-Coordinating-Council-Rockies-No-CPP-AEO2016"
   ]
  },
  {
   "cell_type": "code",
   "execution_count": 87,
   "metadata": {},
   "outputs": [],
   "source": [
    "import numpy as np\n",
    "# Datos extraidos de la página de quandl\n",
    "data = np.array([10.051101,  9.259127,  9.444813,  9.557723,  9.977324, 10.298326,\n",
    "       10.447217, 10.550506, 10.590784, 10.657418, 10.743085, 10.831965,\n",
    "       10.988435, 11.153055, 11.313326, 11.557165, 11.860136, 12.122511,\n",
    "       12.356448, 12.611391, 12.814569, 13.111372, 13.357134, 13.559012,\n",
    "       13.85861 , 14.135924, 14.436149])"
   ]
  },
  {
   "cell_type": "markdown",
   "metadata": {},
   "source": [
    "1. Ajuste estos datos a polinomios de grado 1 hasta 3 (los datos en $x$ corresponden a los años de 2014 a 2040, sin embargo son valores muy grandes para elevarlos a una potencia, use una representación para estos años, por ejemplo $2014 \\rightarrow 0$ y $2040\\rightarrow 26$).\n",
    "\n",
    "2. Muestre las tres curvas ajustadas junto a los datos de los costos en un solo gráfico"
   ]
  },
  {
   "cell_type": "code",
   "execution_count": 88,
   "metadata": {},
   "outputs": [],
   "source": [
    "import numpy as np\n",
    "\n",
    "m = 27\n",
    "x = np.linspace(0,26,27)\n",
    "\n",
    "y = np.array([10.051101,  9.259127,  9.444813,  9.557723,  9.977324, 10.298326,\n",
    "       10.447217, 10.550506, 10.590784, 10.657418, 10.743085, 10.831965,\n",
    "       10.988435, 11.153055, 11.313326, 11.557165, 11.860136, 12.122511,\n",
    "       12.356448, 12.611391, 12.814569, 13.111372, 13.357134, 13.559012,\n",
    "       13.85861 , 14.135924, 14.436149])"
   ]
  },
  {
   "cell_type": "markdown",
   "metadata": {},
   "source": [
    "#### POLINOMIO DE GRADO 3"
   ]
  },
  {
   "cell_type": "code",
   "execution_count": 89,
   "metadata": {},
   "outputs": [
    {
     "data": {
      "text/plain": [
       "      fun: 0.8404225571927703\n",
       " hess_inv: array([[ 2.27239030e-01, -6.41152655e-02,  4.83487121e-03,\n",
       "        -1.06427974e-04],\n",
       "       [-6.41152655e-02,  2.61881643e-02, -2.28212212e-03,\n",
       "         5.43056150e-05],\n",
       "       [ 4.83487121e-03, -2.28212212e-03,  2.13850329e-04,\n",
       "        -5.32140621e-06],\n",
       "       [-1.06427974e-04,  5.43056150e-05, -5.32140621e-06,\n",
       "         1.36446335e-07]])\n",
       "      jac: array([-0.00673267,  0.00720893, -0.0707334 , -1.3543991 ])\n",
       "  message: 'Desired error not necessarily achieved due to precision loss.'\n",
       "     nfev: 307\n",
       "      nit: 5\n",
       "     njev: 59\n",
       "   status: 2\n",
       "  success: False\n",
       "        x: array([9.56533301e+00, 8.53579115e-02, 3.14515198e-03, 3.17656004e-05])"
      ]
     },
     "execution_count": 89,
     "metadata": {},
     "output_type": "execute_result"
    }
   ],
   "source": [
    "def funcion_de_costo(beta, X, y):\n",
    "    beta = np.reshape(beta, [4, -1])\n",
    "    pred = X @ beta\n",
    "    costo = (y-pred).T @ (y-pred)\n",
    "    return costo[0][0]\n",
    "\n",
    "ones = np.ones([m, 1]) # m renglones y 1 columna\n",
    "x_1 = np.reshape(x, [m, -1]) #columna de factor x con m renglones y 1 columna\n",
    "x_2 = np.reshape(x**2, [m,-1])\n",
    "x_3 = np.reshape(x**3, [m,-1])\n",
    "\n",
    "X = np.hstack((ones, x_1, x_2, x_3))\n",
    "\n",
    "beta_inicial = np.random.rand(4)\n",
    "y = np.reshape(y, [m,-1])\n",
    "\n",
    "funcion_de_costo(beta_inicial, X, y)\n",
    "\n",
    "import scipy.optimize as opt\n",
    "sol = opt.minimize(funcion_de_costo,\n",
    "                beta_inicial,\n",
    "                args=(X,y))\n",
    "sol"
   ]
  },
  {
   "cell_type": "code",
   "execution_count": 90,
   "metadata": {},
   "outputs": [
    {
     "data": {
      "text/plain": [
       "56224555.04906425"
      ]
     },
     "execution_count": 90,
     "metadata": {},
     "output_type": "execute_result"
    }
   ],
   "source": [
    "funcion_de_costo(beta_inicial, X, y)"
   ]
  },
  {
   "cell_type": "markdown",
   "metadata": {},
   "source": [
    "#### POLINOMIO DE GRADO 2"
   ]
  },
  {
   "cell_type": "code",
   "execution_count": 91,
   "metadata": {
    "scrolled": true
   },
   "outputs": [
    {
     "data": {
      "text/plain": [
       "      fun: 0.8443845193983507\n",
       " hess_inv: array([[ 1.44233609e-01, -2.17582130e-02,  6.84215343e-04],\n",
       "       [-2.17582130e-02,  4.57473200e-03, -1.64208716e-04],\n",
       "       [ 6.84215343e-04, -1.64208716e-04,  6.31566016e-06]])\n",
       "      jac: array([1.05798244e-06, 1.97812915e-05, 4.19922173e-04])\n",
       "  message: 'Desired error not necessarily achieved due to precision loss.'\n",
       "     nfev: 172\n",
       "      nit: 9\n",
       "     njev: 40\n",
       "   status: 2\n",
       "  success: False\n",
       "        x: array([9.59128646e+00, 7.25241261e-02, 4.39024734e-03])"
      ]
     },
     "execution_count": 91,
     "metadata": {},
     "output_type": "execute_result"
    }
   ],
   "source": [
    "def funcion_de_costo(beta, X, y):\n",
    "    beta = np.reshape(beta, [3, -1])\n",
    "    pred = X @ beta\n",
    "    costo = (y-pred).T @ (y-pred)\n",
    "    return costo[0][0]\n",
    "\n",
    "ones = np.ones([m, 1]) # m renglones y 1 columna\n",
    "x_1 = np.reshape(x, [m, -1]) #columna de factor x con m renglones y 1 columna\n",
    "x_2 = np.reshape(x**2, [m,-1])\n",
    "\n",
    "X = np.hstack((ones, x_1, x_2))\n",
    "\n",
    "beta_inicial = np.random.rand(3)\n",
    "y = np.reshape(y, [m,-1])\n",
    "\n",
    "funcion_de_costo(beta_inicial, X, y)\n",
    "\n",
    "import scipy.optimize as opt\n",
    "sol = opt.minimize(funcion_de_costo,\n",
    "                beta_inicial,\n",
    "                args=(X,y))\n",
    "sol"
   ]
  },
  {
   "cell_type": "code",
   "execution_count": 92,
   "metadata": {},
   "outputs": [
    {
     "data": {
      "text/plain": [
       "2358540.0433581695"
      ]
     },
     "execution_count": 92,
     "metadata": {},
     "output_type": "execute_result"
    }
   ],
   "source": [
    "funcion_de_costo(beta_inicial, X, y)"
   ]
  },
  {
   "cell_type": "markdown",
   "metadata": {},
   "source": [
    "#### POLINOMIO DE GRADO 1"
   ]
  },
  {
   "cell_type": "code",
   "execution_count": 93,
   "metadata": {
    "scrolled": true
   },
   "outputs": [
    {
     "data": {
      "text/plain": [
       "      fun: 2.370488951815176\n",
       " hess_inv: array([[ 0.07010582, -0.00396825],\n",
       "       [-0.00396825,  0.00030525]])\n",
       "      jac: array([-5.96046448e-07, -5.96046448e-08])\n",
       "  message: 'Optimization terminated successfully.'\n",
       "     nfev: 15\n",
       "      nit: 3\n",
       "     njev: 5\n",
       "   status: 0\n",
       "  success: True\n",
       "        x: array([9.11567629, 0.18667056])"
      ]
     },
     "execution_count": 93,
     "metadata": {},
     "output_type": "execute_result"
    }
   ],
   "source": [
    "def funcion_de_costo(beta, X, y):\n",
    "    beta = np.reshape(beta, [2, -1])\n",
    "    pred = X @ beta\n",
    "    costo = (y-pred).T @ (y-pred)\n",
    "    return costo[0][0]\n",
    "\n",
    "ones = np.ones([m, 1]) # m renglones y 1 columna\n",
    "x_1 = np.reshape(x, [m, -1]) #columna de factor x con m renglones y 1 columna\n",
    "\n",
    "X = np.hstack((ones, x_1))\n",
    "\n",
    "beta_inicial = np.random.rand(2)\n",
    "y = np.reshape(y, [m,-1])\n",
    "\n",
    "funcion_de_costo(beta_inicial, X, y)\n",
    "\n",
    "import scipy.optimize as opt\n",
    "sol = opt.minimize(funcion_de_costo,\n",
    "                beta_inicial,\n",
    "                args=(X,y))\n",
    "sol"
   ]
  },
  {
   "cell_type": "code",
   "execution_count": 94,
   "metadata": {},
   "outputs": [
    {
     "data": {
      "text/plain": [
       "1196.5644520441301"
      ]
     },
     "execution_count": 94,
     "metadata": {},
     "output_type": "execute_result"
    }
   ],
   "source": [
    "funcion_de_costo(beta_inicial, X, y)"
   ]
  },
  {
   "cell_type": "code",
   "execution_count": 20,
   "metadata": {
    "scrolled": true
   },
   "outputs": [
    {
     "data": {
      "image/png": "[encoded data removed]",
      "text/plain": [
       "<Figure size 432x288 with 1 Axes>"
      ]
     },
     "metadata": {
      "needs_background": "light"
     },
     "output_type": "display_data"
    }
   ],
   "source": [
    "y_GRADO_3 = 9.56752189e+00 + 8.46498123e-02*x + 3.20206021e-03*(x**2) + 3.04662423e-05*(x**3)\n",
    "y_GRADO_2 = 9.59128645e+00 + 7.25241277e-02*x + 4.39024721e-03*(x**2)\n",
    "y_GRADO_1 = 9.11567633 + 0.18667056*x\n",
    "\n",
    "import matplotlib.pyplot as plt\n",
    "%matplotlib inline\n",
    "plt.figure()\n",
    "#plt.scatter(x, y_con_ruido, s=100)\n",
    "plt.plot(x, y_GRADO_3, \"g\")\n",
    "plt.plot(x, y_GRADO_2, \"b\")\n",
    "plt.plot(x, y_GRADO_1, \"y\")\n",
    "plt.plot(x, y, \"r\")\n",
    "plt.grid()"
   ]
  },
  {
   "cell_type": "markdown",
   "metadata": {},
   "source": [
    "#### GRÁFICO DEL ERROR CUADRÁTICO"
   ]
  },
  {
   "cell_type": "code",
   "execution_count": 95,
   "metadata": {},
   "outputs": [
    {
     "data": {
      "text/plain": [
       "<matplotlib.legend.Legend at 0x199d3488250>"
      ]
     },
     "execution_count": 95,
     "metadata": {},
     "output_type": "execute_result"
    },
    {
     "data": {
      "image/png": "[encoded data removed]",
      "text/plain": [
       "<Figure size 432x288 with 1 Axes>"
      ]
     },
     "metadata": {
      "needs_background": "light"
     },
     "output_type": "display_data"
    }
   ],
   "source": [
    "plt.figure()\n",
    "plt.scatter(1, 1196.5644520441301 , label = \"Función Lineal\")\n",
    "plt.scatter(2, 2358540.0433581695 , label = \"Función Cuadrática\")\n",
    "plt.scatter(3, 56224555.04906425 , label = \"Función Cúbica\")\n",
    "plt.grid()\n",
    "plt.legend(loc = \"best\")"
   ]
  },
  {
   "cell_type": "markdown",
   "metadata": {},
   "source": [
    "___\n",
    "### Problema 2\n",
    "\n",
    "El archivo `population_data.csv` contiene información histórica anual de México relativa a la población, nacimientos y muertes desde el año 1950 hasta el año 2015. La primer columna corresponde a los años, la segunda a la población, la tercera a los nacimientos y la última a los decesos.\n",
    "\n",
    "Tomado de: https://en.wikipedia.org/wiki/Demographics_of_Mexico.\n",
    "\n",
    "Importe estos datos usando la función `read_csv` del paquete `pandas`\n",
    "\n",
    "1. Usando los años como variable independiente $x$ y la población como variable dependiente $y$, ajustar polinomios de grado 1 hasta grado 3.\n",
    "\n",
    "    * Mostrar en un solo gráfico los datos de población contra los años, y los polinomios ajustados.\n",
    "\n",
    "    * Graficar el error cuadrático acumulado contra el número de términos.\n",
    "\n",
    "2. Repetir el punto 1 usando los nacimientos como variable dependiente $y$. Grafique las curvas ajustadas junto con los datos de nacimientos. Vea en un gráfico el error acumulado."
   ]
  },
  {
   "cell_type": "markdown",
   "metadata": {},
   "source": [
    "---"
   ]
  },
  {
   "cell_type": "code",
   "execution_count": 61,
   "metadata": {},
   "outputs": [],
   "source": [
    "import pandas as pd"
   ]
  },
  {
   "cell_type": "code",
   "execution_count": 62,
   "metadata": {
    "scrolled": true
   },
   "outputs": [
    {
     "data": {
      "text/html": [
       "<div>\n",
       "<style scoped>\n",
       "    .dataframe tbody tr th:only-of-type {\n",
       "        vertical-align: middle;\n",
       "    }\n",
       "\n",
       "    .dataframe tbody tr th {\n",
       "        vertical-align: top;\n",
       "    }\n",
       "\n",
       "    .dataframe thead th {\n",
       "        text-align: right;\n",
       "    }\n",
       "</style>\n",
       "<table border=\"1\" class=\"dataframe\">\n",
       "  <thead>\n",
       "    <tr style=\"text-align: right;\">\n",
       "      <th></th>\n",
       "      <th>Year</th>\n",
       "      <th>Poblacion</th>\n",
       "      <th>Nacimientos</th>\n",
       "      <th>Decesos</th>\n",
       "    </tr>\n",
       "  </thead>\n",
       "  <tbody>\n",
       "    <tr>\n",
       "      <th>0</th>\n",
       "      <td>1950</td>\n",
       "      <td>28296</td>\n",
       "      <td>1174947</td>\n",
       "      <td>418430</td>\n",
       "    </tr>\n",
       "    <tr>\n",
       "      <th>1</th>\n",
       "      <td>1951</td>\n",
       "      <td>29110</td>\n",
       "      <td>1183788</td>\n",
       "      <td>458238</td>\n",
       "    </tr>\n",
       "    <tr>\n",
       "      <th>2</th>\n",
       "      <td>1952</td>\n",
       "      <td>29980</td>\n",
       "      <td>1195209</td>\n",
       "      <td>408823</td>\n",
       "    </tr>\n",
       "    <tr>\n",
       "      <th>3</th>\n",
       "      <td>1953</td>\n",
       "      <td>30904</td>\n",
       "      <td>1261775</td>\n",
       "      <td>446127</td>\n",
       "    </tr>\n",
       "    <tr>\n",
       "      <th>4</th>\n",
       "      <td>1954</td>\n",
       "      <td>31880</td>\n",
       "      <td>1339837</td>\n",
       "      <td>378752</td>\n",
       "    </tr>\n",
       "    <tr>\n",
       "      <th>...</th>\n",
       "      <td>...</td>\n",
       "      <td>...</td>\n",
       "      <td>...</td>\n",
       "      <td>...</td>\n",
       "    </tr>\n",
       "    <tr>\n",
       "      <th>61</th>\n",
       "      <td>2011</td>\n",
       "      <td>115683</td>\n",
       "      <td>2586287</td>\n",
       "      <td>590693</td>\n",
       "    </tr>\n",
       "    <tr>\n",
       "      <th>62</th>\n",
       "      <td>2012</td>\n",
       "      <td>117054</td>\n",
       "      <td>2498880</td>\n",
       "      <td>602354</td>\n",
       "    </tr>\n",
       "    <tr>\n",
       "      <th>63</th>\n",
       "      <td>2013</td>\n",
       "      <td>118395</td>\n",
       "      <td>2478889</td>\n",
       "      <td>623599</td>\n",
       "    </tr>\n",
       "    <tr>\n",
       "      <th>64</th>\n",
       "      <td>2014</td>\n",
       "      <td>119713</td>\n",
       "      <td>2463420</td>\n",
       "      <td>633641</td>\n",
       "    </tr>\n",
       "    <tr>\n",
       "      <th>65</th>\n",
       "      <td>2015</td>\n",
       "      <td>121005</td>\n",
       "      <td>2353596</td>\n",
       "      <td>655694</td>\n",
       "    </tr>\n",
       "  </tbody>\n",
       "</table>\n",
       "<p>66 rows × 4 columns</p>\n",
       "</div>"
      ],
      "text/plain": [
       "    Year  Poblacion  Nacimientos  Decesos\n",
       "0   1950      28296      1174947   418430\n",
       "1   1951      29110      1183788   458238\n",
       "2   1952      29980      1195209   408823\n",
       "3   1953      30904      1261775   446127\n",
       "4   1954      31880      1339837   378752\n",
       "..   ...        ...          ...      ...\n",
       "61  2011     115683      2586287   590693\n",
       "62  2012     117054      2498880   602354\n",
       "63  2013     118395      2478889   623599\n",
       "64  2014     119713      2463420   633641\n",
       "65  2015     121005      2353596   655694\n",
       "\n",
       "[66 rows x 4 columns]"
      ]
     },
     "execution_count": 62,
     "metadata": {},
     "output_type": "execute_result"
    }
   ],
   "source": [
    "datos_poblacionales = pd.read_csv(\"population_data.csv\")\n",
    "datos_poblacionales"
   ]
  },
  {
   "cell_type": "code",
   "execution_count": 63,
   "metadata": {},
   "outputs": [
    {
     "data": {
      "text/plain": [
       "66"
      ]
     },
     "execution_count": 63,
     "metadata": {},
     "output_type": "execute_result"
    }
   ],
   "source": [
    "n = len(datos_poblacionales)\n",
    "x = np.linspace(0,(n-1),n)\n",
    "n"
   ]
  },
  {
   "cell_type": "code",
   "execution_count": 64,
   "metadata": {},
   "outputs": [],
   "source": [
    "y = datos_poblacionales.Poblacion.tolist()"
   ]
  },
  {
   "cell_type": "markdown",
   "metadata": {},
   "source": [
    "#### POLINOMIO GRADO 3"
   ]
  },
  {
   "cell_type": "code",
   "execution_count": 65,
   "metadata": {
    "scrolled": false
   },
   "outputs": [
    {
     "data": {
      "text/plain": [
       "      fun: 25240442.637928408\n",
       " hess_inv: array([[ 1.08408286e-01, -1.24070481e-02,  3.78847120e-04,\n",
       "        -3.37492792e-06],\n",
       "       [-1.24070481e-02,  1.95414793e-03, -6.78304330e-05,\n",
       "         6.47843271e-07],\n",
       "       [ 3.78847120e-04, -6.78304330e-05,  2.51977117e-06,\n",
       "        -2.51091036e-08],\n",
       "       [-3.37492792e-06,  6.47843271e-07, -2.51091036e-08,\n",
       "         2.57554006e-10]])\n",
       "      jac: array([-0.25,  0.25, -0.25, -0.75])\n",
       "  message: 'Desired error not necessarily achieved due to precision loss.'\n",
       "     nfev: 196\n",
       "      nit: 5\n",
       "     njev: 37\n",
       "   status: 2\n",
       "  success: False\n",
       "        x: array([ 2.84777447e+04,  7.39080611e+02,  3.05648266e+01, -3.09231457e-01])"
      ]
     },
     "execution_count": 65,
     "metadata": {},
     "output_type": "execute_result"
    }
   ],
   "source": [
    "def funcion_de_costo(beta, X, y):\n",
    "    beta = np.reshape(beta, [4, -1])\n",
    "    pred = X @ beta\n",
    "    costo = (y-pred).T @ (y-pred)\n",
    "    return costo[0][0]\n",
    "\n",
    "ones = np.ones([n, 1]) # m renglones y 1 columna\n",
    "x_1 = np.reshape(x, [n, -1]) #columna de factor x con m renglones y 1 columna\n",
    "x_2 = np.reshape(x**2, [n,-1])\n",
    "x_3 = np.reshape(x**3, [n,-1])\n",
    "\n",
    "X = np.hstack((ones, x_1, x_2, x_3))\n",
    "\n",
    "beta_inicial = np.random.rand(4)\n",
    "y = np.reshape(y, [n,-1])\n",
    "\n",
    "funcion_de_costo(beta_inicial, X, y)\n",
    "\n",
    "import scipy.optimize as opt\n",
    "sol = opt.minimize(funcion_de_costo,\n",
    "                beta_inicial,\n",
    "                args=(X,y))\n",
    "sol"
   ]
  },
  {
   "cell_type": "code",
   "execution_count": 66,
   "metadata": {},
   "outputs": [
    {
     "data": {
      "text/plain": [
       "281004960436.837"
      ]
     },
     "execution_count": 66,
     "metadata": {},
     "output_type": "execute_result"
    }
   ],
   "source": [
    "funcion_de_costo(beta_inicial, X, y)"
   ]
  },
  {
   "cell_type": "markdown",
   "metadata": {},
   "source": [
    "#### POLINOMIO GRADO 2"
   ]
  },
  {
   "cell_type": "code",
   "execution_count": 67,
   "metadata": {
    "scrolled": false
   },
   "outputs": [
    {
     "data": {
      "text/plain": [
       "      fun: 210941621.44591814\n",
       " hess_inv: array([[ 6.26268630e-02, -3.82419886e-03,  4.86541583e-05],\n",
       "       [-3.82419886e-03,  3.18952715e-04, -4.60155635e-06],\n",
       "       [ 4.86541583e-05, -4.60155635e-06,  7.09937568e-08]])\n",
       "      jac: array([0., 0., 0.])\n",
       "  message: 'Optimization terminated successfully.'\n",
       "     nfev: 44\n",
       "      nit: 9\n",
       "     njev: 11\n",
       "   status: 0\n",
       "  success: True\n",
       "        x: array([2.44255951e+04, 1.51701298e+03, 4.14775145e-01])"
      ]
     },
     "execution_count": 67,
     "metadata": {},
     "output_type": "execute_result"
    }
   ],
   "source": [
    "def funcion_de_costo(beta, X, y):\n",
    "    beta = np.reshape(beta, [3, -1])\n",
    "    pred = X @ beta\n",
    "    costo = (y-pred).T @ (y-pred)\n",
    "    return costo[0][0]\n",
    "\n",
    "ones = np.ones([n, 1]) # m renglones y 1 columna\n",
    "x_1 = np.reshape(x, [n, -1]) #columna de factor x con m renglones y 1 columna\n",
    "x_2 = np.reshape(x**2, [n,-1])\n",
    "\n",
    "X = np.hstack((ones, x_1, x_2))\n",
    "\n",
    "beta_inicial = np.random.rand(3)\n",
    "y = np.reshape(y, [n,-1])\n",
    "\n",
    "funcion_de_costo(beta_inicial, X, y)\n",
    "\n",
    "import scipy.optimize as opt\n",
    "sol = opt.minimize(funcion_de_costo,\n",
    "                beta_inicial,\n",
    "                args=(X,y))\n",
    "sol"
   ]
  },
  {
   "cell_type": "code",
   "execution_count": 68,
   "metadata": {},
   "outputs": [
    {
     "data": {
      "text/plain": [
       "405728075619.3362"
      ]
     },
     "execution_count": 68,
     "metadata": {},
     "output_type": "execute_result"
    }
   ],
   "source": [
    "funcion_de_costo(beta_inicial, X, y)"
   ]
  },
  {
   "cell_type": "markdown",
   "metadata": {},
   "source": [
    "#### POLINOMIO GRADO 1"
   ]
  },
  {
   "cell_type": "code",
   "execution_count": 69,
   "metadata": {
    "scrolled": true
   },
   "outputs": [
    {
     "data": {
      "text/plain": [
       "      fun: 212137169.54588675\n",
       " hess_inv: array([[ 2.26568061e-02, -5.20346954e-04],\n",
       "       [-5.20346954e-04,  1.73119978e-05]])\n",
       "      jac: array([0., 0.])\n",
       "  message: 'Optimization terminated successfully.'\n",
       "     nfev: 42\n",
       "      nit: 8\n",
       "     njev: 14\n",
       "   status: 0\n",
       "  success: True\n",
       "        x: array([24138.02556782,  1543.97319171])"
      ]
     },
     "execution_count": 69,
     "metadata": {},
     "output_type": "execute_result"
    }
   ],
   "source": [
    "def funcion_de_costo(beta, X, y):\n",
    "    beta = np.reshape(beta, [2, -1])\n",
    "    pred = X @ beta\n",
    "    costo = (y-pred).T @ (y-pred)\n",
    "    return costo[0][0]\n",
    "\n",
    "ones = np.ones([n, 1]) # m renglones y 1 columna\n",
    "x_1 = np.reshape(x, [n, -1]) #columna de factor x con m renglones y 1 columna\n",
    "\n",
    "X = np.hstack((ones, x_1))\n",
    "\n",
    "beta_inicial = np.random.rand(2)\n",
    "y = np.reshape(y, [n,-1])\n",
    "\n",
    "funcion_de_costo(beta_inicial, X, y)\n",
    "\n",
    "import scipy.optimize as opt\n",
    "sol = opt.minimize(funcion_de_costo,\n",
    "                beta_inicial,\n",
    "                args=(X,y))\n",
    "sol"
   ]
  },
  {
   "cell_type": "code",
   "execution_count": 70,
   "metadata": {},
   "outputs": [
    {
     "data": {
      "text/plain": [
       "421817924949.9409"
      ]
     },
     "execution_count": 70,
     "metadata": {},
     "output_type": "execute_result"
    }
   ],
   "source": [
    "funcion_de_costo(beta_inicial, X, y)"
   ]
  },
  {
   "cell_type": "code",
   "execution_count": 71,
   "metadata": {
    "scrolled": true
   },
   "outputs": [
    {
     "data": {
      "image/png": "[encoded data removed]",
      "text/plain": [
       "<Figure size 432x288 with 1 Axes>"
      ]
     },
     "metadata": {
      "needs_background": "light"
     },
     "output_type": "display_data"
    }
   ],
   "source": [
    "y_GRADO_3 = 2.84777478e+04 + 7.39080252e+02*x + 3.05648377e+01*(x**2) + -3.09231556e-01*(x**3)\n",
    "y_GRADO_2 = 2.44255686e+04 + 1.51701468e+03*x + 4.14752989e-01*(x**2)\n",
    "y_GRADO_1 = 24138.03430666 + 1543.97298595*x\n",
    "\n",
    "import matplotlib.pyplot as plt\n",
    "%matplotlib inline\n",
    "plt.figure()\n",
    "#plt.scatter(x, y_con_ruido, s=100)\n",
    "plt.plot(x, y_GRADO_3, \"g\")\n",
    "plt.plot(x, y_GRADO_2, \"b\")\n",
    "plt.plot(x, y_GRADO_1, \"y\")\n",
    "plt.plot(x, y, \"r\")\n",
    "plt.grid()"
   ]
  },
  {
   "cell_type": "markdown",
   "metadata": {},
   "source": [
    "#### GRÁFICO DEL ERROR CUADRÁTICO"
   ]
  },
  {
   "cell_type": "code",
   "execution_count": 73,
   "metadata": {},
   "outputs": [
    {
     "data": {
      "text/plain": [
       "<matplotlib.legend.Legend at 0x199d326b160>"
      ]
     },
     "execution_count": 73,
     "metadata": {},
     "output_type": "execute_result"
    },
    {
     "data": {
      "image/png": "[encoded data removed]",
      "text/plain": [
       "<Figure size 432x288 with 1 Axes>"
      ]
     },
     "metadata": {
      "needs_background": "light"
     },
     "output_type": "display_data"
    }
   ],
   "source": [
    "plt.figure()\n",
    "plt.scatter(1, 421817924949.9409 , label = \"Función Lineal\")\n",
    "plt.scatter(2, 405728075619.3362 , label = \"Función Cuadrática\")\n",
    "plt.scatter(3, 281004960436.837 , label = \"Función Cúbica\")\n",
    "plt.grid()\n",
    "plt.legend(loc = \"best\")"
   ]
  },
  {
   "cell_type": "markdown",
   "metadata": {},
   "source": [
    "2. Repetir el punto 1 usando los nacimientos como variable dependiente $y$. Grafique las curvas ajustadas junto con los datos de nacimientos. Vea en un gráfico el error acumulado."
   ]
  },
  {
   "cell_type": "code",
   "execution_count": 75,
   "metadata": {},
   "outputs": [],
   "source": [
    "y = datos_poblacionales.Nacimientos.tolist()"
   ]
  },
  {
   "cell_type": "markdown",
   "metadata": {},
   "source": [
    "#### POLINOMIO GRADO 3"
   ]
  },
  {
   "cell_type": "code",
   "execution_count": 76,
   "metadata": {
    "scrolled": false
   },
   "outputs": [
    {
     "data": {
      "text/plain": [
       "      fun: 441782342727.9865\n",
       " hess_inv: array([[ 3.02722800e-02, -3.01270120e-12,  2.96920797e-02,\n",
       "        -5.80200264e-04],\n",
       "       [-3.01270120e-12,  5.13367127e-13, -3.45869491e-12,\n",
       "         6.73734163e-14],\n",
       "       [ 2.96920797e-02, -3.45869491e-12,  2.91229996e-02,\n",
       "        -5.69080112e-04],\n",
       "       [-5.80200264e-04,  6.73734163e-14, -5.69080112e-04,\n",
       "         1.11201526e-05]])\n",
       "      jac: array([ 4.09600e+03, -1.22880e+04, -9.54368e+05, -7.05536e+07])\n",
       "  message: 'Desired error not necessarily achieved due to precision loss.'\n",
       "     nfev: 260\n",
       "      nit: 9\n",
       "     njev: 50\n",
       "   status: 2\n",
       "  success: False\n",
       "        x: array([ 1.08828913e+06,  5.98750450e+04, -2.81401916e+02, -5.13039263e+00])"
      ]
     },
     "execution_count": 76,
     "metadata": {},
     "output_type": "execute_result"
    }
   ],
   "source": [
    "def funcion_de_costo(beta, X, y):\n",
    "    beta = np.reshape(beta, [4, -1])\n",
    "    pred = X @ beta\n",
    "    costo = (y-pred).T @ (y-pred)\n",
    "    return costo[0][0]\n",
    "\n",
    "ones = np.ones([n, 1]) # m renglones y 1 columna\n",
    "x_1 = np.reshape(x, [n, -1]) #columna de factor x con m renglones y 1 columna\n",
    "x_2 = np.reshape(x**2, [n,-1])\n",
    "x_3 = np.reshape(x**3, [n,-1])\n",
    "\n",
    "X = np.hstack((ones, x_1, x_2, x_3))\n",
    "\n",
    "beta_inicial = np.random.rand(4)\n",
    "y = np.reshape(y, [n,-1])\n",
    "\n",
    "funcion_de_costo(beta_inicial, X, y)\n",
    "\n",
    "import scipy.optimize as opt\n",
    "sol = opt.minimize(funcion_de_costo,\n",
    "                beta_inicial,\n",
    "                args=(X,y))\n",
    "sol"
   ]
  },
  {
   "cell_type": "code",
   "execution_count": 77,
   "metadata": {},
   "outputs": [
    {
     "data": {
      "text/plain": [
       "348714431667180.25"
      ]
     },
     "execution_count": 77,
     "metadata": {},
     "output_type": "execute_result"
    }
   ],
   "source": [
    "funcion_de_costo(beta_inicial, X, y)"
   ]
  },
  {
   "cell_type": "markdown",
   "metadata": {},
   "source": [
    "#### POLINOMIO GRADO 2"
   ]
  },
  {
   "cell_type": "code",
   "execution_count": 78,
   "metadata": {},
   "outputs": [
    {
     "data": {
      "text/plain": [
       "      fun: 492922162258.6307\n",
       " hess_inv: array([[ 6.42636202e+00, -1.48703768e+00,  2.95699714e-02],\n",
       "       [-1.48703768e+00,  3.44139497e-01, -6.84304352e-03],\n",
       "       [ 2.95699714e-02, -6.84304352e-03,  1.36072132e-04]])\n",
       "      jac: array([  -4096.,   32768., 2400256.])\n",
       "  message: 'Desired error not necessarily achieved due to precision loss.'\n",
       "     nfev: 299\n",
       "      nit: 8\n",
       "     njev: 72\n",
       "   status: 2\n",
       "  success: False\n",
       "        x: array([ 1.02073392e+06,  7.27991881e+04, -7.81817556e+02])"
      ]
     },
     "execution_count": 78,
     "metadata": {},
     "output_type": "execute_result"
    }
   ],
   "source": [
    "def funcion_de_costo(beta, X, y):\n",
    "    beta = np.reshape(beta, [3, -1])\n",
    "    pred = X @ beta\n",
    "    costo = (y-pred).T @ (y-pred)\n",
    "    return costo[0][0]\n",
    "\n",
    "ones = np.ones([n, 1]) # m renglones y 1 columna\n",
    "x_1 = np.reshape(x, [n, -1]) #columna de factor x con m renglones y 1 columna\n",
    "x_2 = np.reshape(x**2, [n,-1])\n",
    "\n",
    "X = np.hstack((ones, x_1, x_2))\n",
    "\n",
    "beta_inicial = np.random.rand(3)\n",
    "y = np.reshape(y, [n,-1])\n",
    "\n",
    "funcion_de_costo(beta_inicial, X, y)\n",
    "\n",
    "import scipy.optimize as opt\n",
    "sol = opt.minimize(funcion_de_costo,\n",
    "                beta_inicial,\n",
    "                args=(X,y))\n",
    "sol"
   ]
  },
  {
   "cell_type": "code",
   "execution_count": 79,
   "metadata": {},
   "outputs": [
    {
     "data": {
      "text/plain": [
       "358224133251775.9"
      ]
     },
     "execution_count": 79,
     "metadata": {},
     "output_type": "execute_result"
    }
   ],
   "source": [
    "funcion_de_costo(beta_inicial, X, y)"
   ]
  },
  {
   "cell_type": "markdown",
   "metadata": {},
   "source": [
    "#### POLINOMIO GRADO 1"
   ]
  },
  {
   "cell_type": "code",
   "execution_count": 80,
   "metadata": {
    "scrolled": true
   },
   "outputs": [
    {
     "data": {
      "text/plain": [
       "      fun: 4737951516669.34\n",
       " hess_inv: array([[ 2.89848621e-02, -6.63890972e-04],\n",
       "       [-6.63890972e-04,  2.05436219e-05]])\n",
       "      jac: array([      0., -196608.])\n",
       "  message: 'Desired error not necessarily achieved due to precision loss.'\n",
       "     nfev: 161\n",
       "      nit: 5\n",
       "     njev: 50\n",
       "   status: 2\n",
       "  success: False\n",
       "        x: array([1564516.08027623,   21940.67611505])"
      ]
     },
     "execution_count": 80,
     "metadata": {},
     "output_type": "execute_result"
    }
   ],
   "source": [
    "def funcion_de_costo(beta, X, y):\n",
    "    beta = np.reshape(beta, [2, -1])\n",
    "    pred = X @ beta\n",
    "    costo = (y-pred).T @ (y-pred)\n",
    "    return costo[0][0]\n",
    "\n",
    "ones = np.ones([n, 1]) # m renglones y 1 columna\n",
    "x_1 = np.reshape(x, [n, -1]) #columna de factor x con m renglones y 1 columna\n",
    "\n",
    "X = np.hstack((ones, x_1))\n",
    "\n",
    "beta_inicial = np.random.rand(2)\n",
    "y = np.reshape(y, [n,-1])\n",
    "\n",
    "funcion_de_costo(beta_inicial, X, y)\n",
    "\n",
    "import scipy.optimize as opt\n",
    "sol = opt.minimize(funcion_de_costo,\n",
    "                beta_inicial,\n",
    "                args=(X,y))\n",
    "sol"
   ]
  },
  {
   "cell_type": "code",
   "execution_count": 81,
   "metadata": {},
   "outputs": [
    {
     "data": {
      "text/plain": [
       "358561682732577.6"
      ]
     },
     "execution_count": 81,
     "metadata": {},
     "output_type": "execute_result"
    }
   ],
   "source": [
    "funcion_de_costo(beta_inicial, X, y)"
   ]
  },
  {
   "cell_type": "code",
   "execution_count": 82,
   "metadata": {
    "scrolled": true
   },
   "outputs": [
    {
     "data": {
      "image/png": "[encoded data removed]",
      "text/plain": [
       "<Figure size 432x288 with 1 Axes>"
      ]
     },
     "metadata": {
      "needs_background": "light"
     },
     "output_type": "display_data"
    }
   ],
   "source": [
    "y_GRADO_3 = 1.08850040e+06 + 5.98533430e+04*x + -2.80799820e+02*(x**2) + -5.13529347e+00*(x**3)\n",
    "y_GRADO_2 = 1.02126648e+06 + 7.27686710e+04*x + -7.81447004e+02*(x**2)\n",
    "y_GRADO_1 = 1563124.12481475 + 21973.45683441*x\n",
    "\n",
    "import matplotlib.pyplot as plt\n",
    "%matplotlib inline\n",
    "plt.figure()\n",
    "#plt.scatter(x, y_con_ruido, s=100)\n",
    "plt.plot(x, y_GRADO_3, \"g\")\n",
    "plt.plot(x, y_GRADO_2, \"b\")\n",
    "plt.plot(x, y_GRADO_1, \"y\")\n",
    "plt.plot(x, y, \"r\")\n",
    "plt.grid()"
   ]
  },
  {
   "cell_type": "markdown",
   "metadata": {},
   "source": [
    "#### GRÁFICO DE ERROR CUADRÁTICO"
   ]
  },
  {
   "cell_type": "code",
   "execution_count": 84,
   "metadata": {},
   "outputs": [
    {
     "data": {
      "text/plain": [
       "<matplotlib.legend.Legend at 0x199d33f6cd0>"
      ]
     },
     "execution_count": 84,
     "metadata": {},
     "output_type": "execute_result"
    },
    {
     "data": {
      "image/png": "[encoded data removed]",
      "text/plain": [
       "<Figure size 432x288 with 1 Axes>"
      ]
     },
     "metadata": {
      "needs_background": "light"
     },
     "output_type": "display_data"
    }
   ],
   "source": [
    "plt.figure()\n",
    "plt.scatter(1, 358561682732577.6 , label = \"Función Lineal\")\n",
    "plt.scatter(2, 358224133251775.9 , label = \"Función Cuadrática\")\n",
    "plt.scatter(3, 348714431667180.25 , label = \"Función Cúbica\")\n",
    "plt.grid()\n",
    "plt.legend(loc = \"best\")"
   ]
  },
  {
   "cell_type": "code",
   "execution_count": null,
   "metadata": {},
   "outputs": [],
   "source": []
  }
 ],
 "metadata": {
  "kernelspec": {
   "display_name": "Python 3 (ipykernel)",
   "language": "python",
   "name": "python3"
  },
  "language_info": {
   "codemirror_mode": {
    "name": "ipython",
    "version": 3
   },
   "file_extension": ".py",
   "mimetype": "text/x-python",
   "name": "python",
   "nbconvert_exporter": "python",
   "pygments_lexer": "ipython3",
   "version": "3.9.12"
  }
 },
 "nbformat": 4,
 "nbformat_minor": 2
}
